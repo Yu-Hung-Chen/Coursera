{
 "cells": [
  {
   "cell_type": "markdown",
   "metadata": {
    "collapsed": true
   },
   "source": [
    "### Problem Statement\n",
    "New York is already a very highly developed city, and there are tons of different venues across the city. It is also a place full of business opportunity, it is definitely worth a try of starting a business there.\n",
    "Given the intensive competition in New York, it is necessary to determin which district's market is not yet saturated.\n",
    "I would like to analyze the coffee shop market in the New York, to find out which district still has room for coffee shop, and is the most profitable as well."
   ]
  },
  {
   "cell_type": "markdown",
   "metadata": {},
   "source": [
    "### Required Data\n"
   ]
  },
  {
   "cell_type": "markdown",
   "metadata": {},
   "source": [
    "#### 1. New York Neighborhood Data Profiles\n",
    "The main data source is the data provided from the government at: https://furmancenter.org/neighborhoods\n",
    "By selecting the district can the relevant data be shown, I would like to extract all the demographic data and cluster them into different clusters.\n",
    "They attributes include population, households with children under 18 years old, Population aged 65+, etc. \n"
   ]
  },
  {
   "cell_type": "markdown",
   "metadata": {},
   "source": [
    "#### 2. Foursquare Data Profiles\n",
    "After clustering the district based on the demographic data, the number of the coffee shop needs to be analyzed.\n",
    "The average number of coffee shop in each cluster will be calculated and the district whose number of coffee shop is below the average of the cluster will be spotted. This mean the coffee shop market could have not yet been saturated."
   ]
  },
  {
   "cell_type": "markdown",
   "metadata": {},
   "source": [
    "#### 3. Population Data (also from the URL in point 1)\n",
    "\n",
    "Next the population and population density data provided by the NYC government will be taken as the market potential of the district, because the larger the population (or population density), the larger the market.\n"
   ]
  },
  {
   "cell_type": "markdown",
   "metadata": {},
   "source": [
    "#### 4. Median Rent Data (also from the URL in point 1)\n",
    "Then the median rent of the selected districts retrieved from the NYC government will be considered the cost of owning a coffee shop (rent takes a big portion of the total cost, it is indicative)."
   ]
  },
  {
   "cell_type": "markdown",
   "metadata": {},
   "source": [
    "#### 5. Profitability\n",
    "After targeting the unsaturated districts (step 2), estimating the market potential (step 3), and estimating the cost (step 4), the profitability will be calculated.\n",
    "The profitability is the difference between the rank of the population and the rank of the median rent, i.e. the district having higher score in population data and lower score in median rent data will be the most profitable unsaturated district for opening a coffee shop.\n",
    "\n",
    "The result will be visualized on the map in the end."
   ]
  }
 ],
 "metadata": {
  "kernelspec": {
   "display_name": "Python 3.7",
   "language": "python",
   "name": "python3"
  },
  "language_info": {
   "codemirror_mode": {
    "name": "ipython",
    "version": 3
   },
   "file_extension": ".py",
   "mimetype": "text/x-python",
   "name": "python",
   "nbconvert_exporter": "python",
   "pygments_lexer": "ipython3",
   "version": "3.7.10"
  }
 },
 "nbformat": 4,
 "nbformat_minor": 1
}
